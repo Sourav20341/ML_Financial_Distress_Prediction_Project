{
  "cells": [
    {
      "cell_type": "code",
      "execution_count": 1,
      "metadata": {
        "colab": {
          "base_uri": "https://localhost:8080/"
        },
        "id": "ROYSnBrmXgYI",
        "outputId": "b4d18eaa-da87-4934-8d7d-9e8962cad115"
      },
      "outputs": [],
      "source": [
        "# from google.colab import drive\n",
        "# drive.mount('/content/drive')"
      ]
    },
    {
      "cell_type": "code",
      "execution_count": 2,
      "metadata": {
        "id": "SKHCm4mlayIZ"
      },
      "outputs": [],
      "source": [
        "import numpy as np\n",
        "import pandas as pd\n",
        "from sklearn.utils import shuffle\n",
        "from sklearn.preprocessing import StandardScaler\n",
        "from sklearn.model_selection import train_test_split\n",
        "from sklearn.impute import SimpleImputer\n",
        "from sklearn.naive_bayes import *\n",
        "import seaborn as sns\n",
        "from sklearn.metrics import *\n",
        "import matplotlib.pyplot as plt\n",
        "\n",
        "\n",
        "imp_mean = SimpleImputer(missing_values=np.nan, strategy='mean')\n",
        "urltrain = \"cs-training.csv\"\n",
        "train = pd.read_csv(urltrain)\n",
        "train = train.drop(train.iloc[:,0:1],axis=1)\n",
        "Y_train = train['SeriousDlqin2yrs']\n",
        "X_train = train.drop(['SeriousDlqin2yrs'], axis = 1)"
      ]
    },
    {
      "cell_type": "code",
      "execution_count": 3,
      "metadata": {
        "id": "nklDIr3la-lI"
      },
      "outputs": [],
      "source": [
        "urltest = \"cs-test.csv\"\n",
        "test = pd.read_csv(urltest)\n",
        "test = test.drop(columns = {\"SeriousDlqin2yrs\"}, axis = 1)\n",
        "X_test = test.drop(test.iloc[:,0:1],axis=1)"
      ]
    },
    {
      "cell_type": "code",
      "execution_count": 4,
      "metadata": {},
      "outputs": [],
      "source": [
        "url_test_labels = \"sampleEntry.csv\"\n",
        "label_proba = pd.read_csv(url_test_labels)\n",
        "label_proba = label_proba.drop(label_proba.iloc[:, 0:1],axis = 1).values\n",
        "Y_test = []\n",
        "for i in label_proba:\n",
        "  if(i > 0.5):\n",
        "    Y_test.append(1)\n",
        "  else:\n",
        "    Y_test.append(0)"
      ]
    },
    {
      "cell_type": "code",
      "execution_count": 5,
      "metadata": {},
      "outputs": [],
      "source": [
        "X_test['labels'] = Y_test"
      ]
    },
    {
      "cell_type": "code",
      "execution_count": 6,
      "metadata": {},
      "outputs": [],
      "source": [
        "imp_mean = SimpleImputer(missing_values=np.nan, strategy='mean')\n",
        "imp_mean = imp_mean.fit(X_train)\n",
        "X_train = imp_mean.transform(X_train)\n",
        "\n",
        "X_test = X_test.dropna()\n",
        "\n",
        "Y_test = X_test['labels']\n",
        "X_test = X_test.drop(['labels'], axis = 1)"
      ]
    },
    {
      "cell_type": "code",
      "execution_count": 7,
      "metadata": {},
      "outputs": [
        {
          "name": "stderr",
          "output_type": "stream",
          "text": [
            "/Users/ashwinsheoran/opt/anaconda3/lib/python3.9/site-packages/sklearn/base.py:443: UserWarning: X has feature names, but StandardScaler was fitted without feature names\n",
            "  warnings.warn(\n"
          ]
        }
      ],
      "source": [
        "sc = StandardScaler()\n",
        "sc = sc.fit(X_train)\n",
        "X_train = sc.transform(X_train)\n",
        "X_test = sc.transform(X_test)"
      ]
    },
    {
      "cell_type": "code",
      "execution_count": 8,
      "metadata": {},
      "outputs": [],
      "source": [
        "X_train, X_val, Y_train, Y_val = train_test_split(X_train, Y_train, test_size=0.30, random_state = 0)"
      ]
    },
    {
      "cell_type": "code",
      "execution_count": 9,
      "metadata": {
        "colab": {
          "base_uri": "https://localhost:8080/",
          "height": 296
        },
        "id": "Dsae77h5bQrI",
        "outputId": "155590b7-dd3b-4853-d929-e9c7d91f4ad1"
      },
      "outputs": [
        {
          "data": {
            "image/png": "[encoded data removed]",
            "text/plain": [
              "<Figure size 432x288 with 1 Axes>"
            ]
          },
          "metadata": {
            "needs_background": "light"
          },
          "output_type": "display_data"
        },
        {
          "name": "stdout",
          "output_type": "stream",
          "text": [
            "Accuracy Score on training set :- 0.9324666666666667\n"
          ]
        }
      ],
      "source": [
        "model = GaussianNB()\n",
        "n_unique = np.unique(Y_train)\n",
        "batch_size = 600\n",
        "training_loss = []\n",
        "validation_loss = []\n",
        "testing_loss = []\n",
        "iteration = []\n",
        "for i in range(10):\n",
        "  iteration.append(i+1)\n",
        "  for j in range(0,X_train.shape[0],batch_size):\n",
        "    model.partial_fit(X_train[j:j+batch_size,:],Y_train[j:j+batch_size],n_unique)\n",
        "\n",
        "  training_loss.append(log_loss(Y_train,model.predict(X_train)))\n",
        "  validation_loss.append(log_loss(Y_val,model.predict(X_val)))\n",
        "  testing_loss.append(log_loss(Y_test,model.predict(X_test)))\n",
        "\n",
        "plt.plot(iteration,training_loss,label = \"Training Loss\")\n",
        "plt.plot(iteration,validation_loss,label = \"Validation Loss\")\n",
        "plt.plot(iteration,testing_loss,label = \"Testing Loss\")\n",
        "plt.xlabel(\"Number of iterations\")\n",
        "plt.ylabel(\"Loss\")\n",
        "plt.legend()\n",
        "plt.show()\n",
        "\n",
        "# model.fit(X_train,Y_train)\n",
        "arr1 = model.predict(X_train)\n",
        "score = accuracy_score(Y_train,arr1)\n",
        "print(\"Accuracy Score on training set :- \" + str(score))\n",
        "# print(classification_report(Y_train,arr1))\n",
        "# cm = confusion_matrix(Y_train,arr1)\n",
        "# sns.heatmap(cm, annot=True, fmt=\".3f\", linewidths=.5, square = True, cmap = 'Blues_r');"
      ]
    },
    {
      "cell_type": "code",
      "execution_count": 10,
      "metadata": {
        "id": "qEtQmJnJqiQr"
      },
      "outputs": [],
      "source": [
        "# weights = model.coef_\n",
        "# weight = []\n",
        "# for i in weights:\n",
        "#   for j in i:\n",
        "#     weight.append(j)\n",
        "# arr = [\"RevolvingUtilizationOfUnsecuredLines\",\"age\",\"NumberOfTime30-59DaysPastDueNotWorse\",\"DebtRatio\",\"MonthlyIncome\",\"NumberOfOpenCreditLinesAndLoans\",\"NumberOfTimes90DaysLate\",\"NumberRealEstateLoansOrLines\",\"NumberOfTime60-89DaysPastDueNotWorse\",\"NumberOfDependents\"]\n",
        "# plt.plot(weight,arr)\n",
        "# plt.show()"
      ]
    },
    {
      "cell_type": "code",
      "execution_count": 13,
      "metadata": {
        "colab": {
          "base_uri": "https://localhost:8080/",
          "height": 331
        },
        "id": "3YqSenQLpf4c",
        "outputId": "18ac9fa1-4c45-4f87-af15-8daa2c32fe2d"
      },
      "outputs": [
        {
          "data": {
            "image/png": "[encoded data removed]",
            "text/plain": [
              "<Figure size 432x288 with 1 Axes>"
            ]
          },
          "metadata": {
            "needs_background": "light"
          },
          "output_type": "display_data"
        },
        {
          "name": "stdout",
          "output_type": "stream",
          "text": [
            "Accuracy score on Training set 0.9326380952380953\n",
            "Accuracy score on Validation set 0.9322\n",
            "Accuracy score on Testing set 0.9813513513513513\n"
          ]
        }
      ],
      "source": [
        "from sklearn.decomposition import PCA\n",
        "\n",
        "training_loss = []\n",
        "validation_loss = []\n",
        "testing_loss = []\n",
        "iteration = []\n",
        "for i in range(1,11):\n",
        "  iteration.append(i)\n",
        "  pca = PCA(n_components=i)\n",
        "  x_train_pca = pca.fit_transform(X_train)\n",
        "  x_validate_pca = pca.fit_transform(X_val)\n",
        "  x_test_pca = pca.fit_transform(X_test)\n",
        "  model = GaussianNB()\n",
        "  model.fit(x_train_pca,Y_train)\n",
        "  training_loss.append(log_loss(Y_train,model.predict(x_train_pca)))\n",
        "  validation_loss.append(log_loss(Y_val,model.predict(x_validate_pca)))\n",
        "  testing_loss.append(log_loss(Y_test,model.predict(x_test_pca)))\n",
        "\n",
        "\n",
        "plt.plot(iteration,training_loss,label = \"Training Loss\")\n",
        "plt.plot(iteration,validation_loss,label = \"Validation Loss\")\n",
        "plt.plot(iteration,testing_loss,label = \"Testing Loss\")\n",
        "plt.xlabel(\"Number of Components\")\n",
        "plt.ylabel(\"Loss\")\n",
        "plt.legend()\n",
        "plt.show()\n",
        "\n",
        "pca = PCA(n_components = 4)\n",
        "x_train_pca = pca.fit_transform(X_train)\n",
        "x_validate_pca = pca.fit_transform(X_val)\n",
        "x_test_pca = pca.fit_transform(X_test)\n",
        "model = GaussianNB()\n",
        "model.fit(x_train_pca,Y_train)\n",
        "print(\"Accuracy score on Training set \" + str(accuracy_score(Y_train,model.predict(x_train_pca))))\n",
        "print(\"Accuracy score on Validation set \" + str(accuracy_score(Y_val,model.predict(x_validate_pca))))\n",
        "print(\"Accuracy score on Testing set \" + str(accuracy_score(Y_test,model.predict(x_test_pca))))"
      ]
    }
  ],
  "metadata": {
    "accelerator": "GPU",
    "colab": {
      "provenance": []
    },
    "gpuClass": "standard",
    "kernelspec": {
      "display_name": "Python 3.9.12 ('base')",
      "language": "python",
      "name": "python3"
    },
    "language_info": {
      "codemirror_mode": {
        "name": "ipython",
        "version": 3
      },
      "file_extension": ".py",
      "mimetype": "text/x-python",
      "name": "python",
      "nbconvert_exporter": "python",
      "pygments_lexer": "ipython3",
      "version": "3.9.12"
    },
    "vscode": {
      "interpreter": {
        "hash": "77df3a5ebd1cef01dee7bc6ed82b7377cfd852bb783257559a7f51931db89a34"
      }
    }
  },
  "nbformat": 4,
  "nbformat_minor": 0
}
