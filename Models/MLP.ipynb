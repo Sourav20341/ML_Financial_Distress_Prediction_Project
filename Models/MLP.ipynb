{
  "nbformat": 4,
  "nbformat_minor": 0,
  "metadata": {
    "colab": {
      "provenance": []
    },
    "kernelspec": {
      "name": "python3",
      "display_name": "Python 3"
    },
    "language_info": {
      "name": "python"
    }
  },
  "cells": [
    {
      "cell_type": "code",
      "execution_count": 1,
      "metadata": {
        "id": "7mRuTbJwS5KR",
        "colab": {
          "base_uri": "https://localhost:8080/"
        },
        "outputId": "f96c7a8e-773a-4397-844b-9807e422b287"
      },
      "outputs": [
        {
          "output_type": "stream",
          "name": "stdout",
          "text": [
            "Mounted at /content/drive\n"
          ]
        }
      ],
      "source": [
        "from google.colab import drive\n",
        "drive.mount('/content/drive')"
      ]
    },
    {
      "cell_type": "code",
      "source": [
        "import numpy as np\n",
        "import pandas as pd\n",
        "from sklearn.utils import shuffle\n",
        "from sklearn.preprocessing import StandardScaler\n",
        "from sklearn.model_selection import train_test_split\n",
        "from sklearn.neural_network import MLPClassifier\n",
        "from sklearn.metrics import *\n",
        "from sklearn.impute import SimpleImputer\n",
        "import seaborn as sns\n",
        "import matplotlib.pyplot as plt\n",
        "import warnings\n",
        "warnings.filterwarnings('ignore')"
      ],
      "metadata": {
        "id": "nKDUiAKolJTT"
      },
      "execution_count": 139,
      "outputs": []
    },
    {
      "cell_type": "code",
      "source": [
        "urltrain = \"/content/drive/MyDrive/cs-training.csv\"\n",
        "train = pd.read_csv(urltrain)\n",
        "train = train.drop(train.iloc[:,0:1],axis=1)\n",
        "Y_train = train['SeriousDlqin2yrs']\n",
        "X_train = train.drop(['SeriousDlqin2yrs'], axis = 1)"
      ],
      "metadata": {
        "id": "Voq7V7ZvlfC-"
      },
      "execution_count": 104,
      "outputs": []
    },
    {
      "cell_type": "code",
      "source": [
        "urltest = \"/content/drive/MyDrive/cs-test.csv\"\n",
        "test = pd.read_csv(urltest)\n",
        "test = test.drop(columns = {\"SeriousDlqin2yrs\"}, axis = 1)\n",
        "X_test = test.drop(test.iloc[:,0:1],axis=1)"
      ],
      "metadata": {
        "id": "vF36rWYtnJ2L"
      },
      "execution_count": 105,
      "outputs": []
    },
    {
      "cell_type": "code",
      "source": [
        "url_test_labels = \"/content/drive/MyDrive/sampleEntry.csv\"\n",
        "label_proba = pd.read_csv(url_test_labels)\n",
        "label_proba = label_proba.drop(label_proba.iloc[:, 0:1],axis = 1).values\n",
        "Y_test = []\n",
        "for i in label_proba:\n",
        "  if(i > 0.5):\n",
        "    Y_test.append(1)\n",
        "  else:\n",
        "    Y_test.append(0)"
      ],
      "metadata": {
        "id": "b2YRfIgHmzKS"
      },
      "execution_count": 106,
      "outputs": []
    },
    {
      "cell_type": "code",
      "source": [
        "X_test['labels'] = Y_test"
      ],
      "metadata": {
        "id": "Pn0ztCzkroJM"
      },
      "execution_count": 107,
      "outputs": []
    },
    {
      "cell_type": "markdown",
      "source": [
        "**Using Simple Imputer for handling the NAN values**"
      ],
      "metadata": {
        "id": "1oo7RsCOoc6f"
      }
    },
    {
      "cell_type": "code",
      "source": [
        "imp_mean = SimpleImputer(missing_values=np.nan, strategy='mean')\n",
        "imp_mean = imp_mean.fit(X_train)\n",
        "X_train = imp_mean.transform(X_train)"
      ],
      "metadata": {
        "id": "As1Rj5wQoRGd"
      },
      "execution_count": 108,
      "outputs": []
    },
    {
      "cell_type": "code",
      "source": [
        "X_test = X_test.dropna()"
      ],
      "metadata": {
        "id": "MlQ9EBUcqBmR"
      },
      "execution_count": 109,
      "outputs": []
    },
    {
      "cell_type": "code",
      "source": [
        "Y_test = X_test['labels']\n",
        "X_test = X_test.drop(['labels'], axis = 1)"
      ],
      "metadata": {
        "id": "ipwLo7bFs8lg"
      },
      "execution_count": 110,
      "outputs": []
    },
    {
      "cell_type": "markdown",
      "source": [
        "**Standard Scaling**"
      ],
      "metadata": {
        "id": "RvEmApAUsT57"
      }
    },
    {
      "cell_type": "code",
      "source": [
        "sc = StandardScaler()\n",
        "sc = sc.fit(X_train)\n",
        "X_train = sc.transform(X_train)\n",
        "X_test = sc.transform(X_test)"
      ],
      "metadata": {
        "colab": {
          "base_uri": "https://localhost:8080/"
        },
        "id": "Pd1BOha0saBb",
        "outputId": "0c82437c-daa8-4460-daf1-63ad16442a80"
      },
      "execution_count": 111,
      "outputs": [
        {
          "output_type": "stream",
          "name": "stderr",
          "text": [
            "/usr/local/lib/python3.8/dist-packages/sklearn/base.py:443: UserWarning: X has feature names, but StandardScaler was fitted without feature names\n",
            "  warnings.warn(\n"
          ]
        }
      ]
    },
    {
      "cell_type": "markdown",
      "source": [
        "**Splitting of Training Data to Training and Validation Data**"
      ],
      "metadata": {
        "id": "Fa_ElHKbx6YN"
      }
    },
    {
      "cell_type": "code",
      "source": [
        "X_train, X_val, Y_train, Y_val = train_test_split(X_train, Y_train, test_size=0.30, random_state = 0)"
      ],
      "metadata": {
        "id": "9eEkCUnKyL6M"
      },
      "execution_count": 112,
      "outputs": []
    },
    {
      "cell_type": "markdown",
      "source": [
        "**MLP Classifier**"
      ],
      "metadata": {
        "id": "IMxSTOyqtkDq"
      }
    },
    {
      "cell_type": "markdown",
      "source": [
        "**Model - Training**"
      ],
      "metadata": {
        "id": "BlSvdw8fyfxH"
      }
    },
    {
      "cell_type": "code",
      "source": [
        "mlp = MLPClassifier(hidden_layer_sizes = (128,64,64), activation = 'logistic', batch_size = 128)\n",
        "mlp.fit(X_train, Y_train)"
      ],
      "metadata": {
        "colab": {
          "base_uri": "https://localhost:8080/"
        },
        "id": "RvPbT1astmj-",
        "outputId": "dd0692e4-36ed-48ee-a2b6-705559aa1226"
      },
      "execution_count": 113,
      "outputs": [
        {
          "output_type": "execute_result",
          "data": {
            "text/plain": [
              "MLPClassifier(activation='logistic', batch_size=128,\n",
              "              hidden_layer_sizes=(128, 64, 64))"
            ]
          },
          "metadata": {},
          "execution_count": 113
        }
      ]
    },
    {
      "cell_type": "markdown",
      "source": [
        "**Prediction on Validation Set**"
      ],
      "metadata": {
        "id": "Gu9KXAdbyiEQ"
      }
    },
    {
      "cell_type": "code",
      "source": [
        "Y_val_pred = mlp.predict(X_val)"
      ],
      "metadata": {
        "id": "HKDCahCnynl8"
      },
      "execution_count": 114,
      "outputs": []
    },
    {
      "cell_type": "code",
      "source": [
        "print(mlp.score(X_val, Y_val))"
      ],
      "metadata": {
        "colab": {
          "base_uri": "https://localhost:8080/"
        },
        "id": "IRCzKlu3ywg4",
        "outputId": "18c611b9-b6e1-47ce-ff64-bf1903a7b3b0"
      },
      "execution_count": 115,
      "outputs": [
        {
          "output_type": "stream",
          "name": "stdout",
          "text": [
            "0.9364222222222223\n"
          ]
        }
      ]
    },
    {
      "cell_type": "markdown",
      "source": [
        "**Prediction on Test Set**"
      ],
      "metadata": {
        "id": "MYYMZpKoy74A"
      }
    },
    {
      "cell_type": "code",
      "source": [
        "Y_test_pred = mlp.predict(X_test)"
      ],
      "metadata": {
        "id": "6dzyo8ZxyeZZ"
      },
      "execution_count": 116,
      "outputs": []
    },
    {
      "cell_type": "code",
      "source": [
        "print(mlp.score(X_test, Y_test))"
      ],
      "metadata": {
        "colab": {
          "base_uri": "https://localhost:8080/"
        },
        "id": "mORPwNtmwCyq",
        "outputId": "1dbd27f9-33f5-4090-bb14-3a8bff70c46c"
      },
      "execution_count": 117,
      "outputs": [
        {
          "output_type": "stream",
          "name": "stdout",
          "text": [
            "0.9893366093366094\n"
          ]
        }
      ]
    },
    {
      "cell_type": "code",
      "source": [
        "print(classification_report(Y_test, Y_test_pred))"
      ],
      "metadata": {
        "colab": {
          "base_uri": "https://localhost:8080/"
        },
        "id": "8FpgaN-EuMuj",
        "outputId": "a9c2ce67-41f4-4b34-ecc6-f2f65669a3a5"
      },
      "execution_count": 118,
      "outputs": [
        {
          "output_type": "stream",
          "name": "stdout",
          "text": [
            "              precision    recall  f1-score   support\n",
            "\n",
            "           0       1.00      0.99      0.99     80040\n",
            "           1       0.65      0.80      0.72      1360\n",
            "\n",
            "    accuracy                           0.99     81400\n",
            "   macro avg       0.82      0.90      0.86     81400\n",
            "weighted avg       0.99      0.99      0.99     81400\n",
            "\n"
          ]
        }
      ]
    },
    {
      "cell_type": "code",
      "source": [
        "training_loss = mlp.loss_curve_\n",
        "iterations = []\n",
        "for i in range(len(training_loss)):\n",
        "  iterations.append(i+1)\n",
        "plt.plot(iterations, training_loss)\n",
        "plt.xlabel('Epochs')\n",
        "plt.ylabel('Training Loss')\n",
        "plt.title(\"Training Loss vs Epochs\")"
      ],
      "metadata": {
        "colab": {
          "base_uri": "https://localhost:8080/",
          "height": 312
        },
        "id": "bvJk8ievxGWk",
        "outputId": "b0b51405-217e-4d99-fa1f-be38f39d1159"
      },
      "execution_count": 119,
      "outputs": [
        {
          "output_type": "execute_result",
          "data": {
            "text/plain": [
              "Text(0.5, 1.0, 'Training Loss vs Epochs')"
            ]
          },
          "metadata": {},
          "execution_count": 119
        },
        {
          "output_type": "display_data",
          "data": {
            "text/plain": [
              "<Figure size 432x288 with 1 Axes>"
            ],
            "image/png": "[encoded data removed]"
          },
          "metadata": {
            "needs_background": "light"
          }
        }
      ]
    },
    {
      "cell_type": "markdown",
      "source": [
        "**HyperParameter Tuning for MLP Classifier**"
      ],
      "metadata": {
        "id": "i0TFn9MK0c1K"
      }
    },
    {
      "cell_type": "markdown",
      "source": [
        "**1. Activation Functions**"
      ],
      "metadata": {
        "id": "_16SPNuD0jcd"
      }
    },
    {
      "cell_type": "code",
      "source": [
        "activation_functions = ['relu', 'logistic', 'tanh', 'identity']\n",
        "relu_loss = []\n",
        "logistic_loss = []\n",
        "tanh_loss = []\n",
        "identity_loss = []"
      ],
      "metadata": {
        "id": "P6r9RIVo0hbM"
      },
      "execution_count": 140,
      "outputs": []
    },
    {
      "cell_type": "code",
      "source": [
        "for i in range(len(activation_functions)):\n",
        "  mlp = MLPClassifier(activation = activation_functions[i], n_iter_no_change = 250, learning_rate_init=0.001)\n",
        "  mlp = mlp.fit(X_train, Y_train)\n",
        "  if activation_functions[i] == 'relu':\n",
        "    print('Validation Score for relu activation = ', mlp.score(X_val, Y_val))\n",
        "    print('Testing Score for relu activation = ', mlp.score(X_test, Y_test))\n",
        "    print()\n",
        "    relu_loss = mlp.loss_curve_\n",
        "  elif activation_functions[i] == 'logistic':\n",
        "    print('Validation Score for logistic activation = ', mlp.score(X_val, Y_val))\n",
        "    print('Testing Score for logistic activation = ', mlp.score(X_test, Y_test))\n",
        "    print()\n",
        "    logistic_loss = mlp.loss_curve_\n",
        "  elif activation_functions[i] == 'tanh':\n",
        "    print('Validation Score for tanh activation = ', mlp.score(X_val, Y_val))\n",
        "    print('Testing Score for tanh activation = ', mlp.score(X_test, Y_test))\n",
        "    print()\n",
        "    tanh_loss = mlp.loss_curve_\n",
        "  elif activation_functions[i] == 'identity':\n",
        "    print('Validation Score for identity activation = ', mlp.score(X_val, Y_val))\n",
        "    print('Testing Score for identity activation = ', mlp.score(X_test, Y_test))\n",
        "    print()\n",
        "    identity_loss = mlp.loss_curve_"
      ],
      "metadata": {
        "colab": {
          "base_uri": "https://localhost:8080/"
        },
        "id": "Jl_W9Q4I040U",
        "outputId": "812ab05b-f8de-4cdf-d80b-bab3fe84c84f"
      },
      "execution_count": 141,
      "outputs": [
        {
          "output_type": "stream",
          "name": "stdout",
          "text": [
            "Validation Score for relu activation =  0.9349777777777778\n",
            "Testing Score for relu activation =  0.9882678132678133\n",
            "\n",
            "Validation Score for logistic activation =  0.9358\n",
            "Testing Score for logistic activation =  0.9891769041769042\n",
            "\n",
            "Validation Score for tanh activation =  0.9356\n",
            "Testing Score for tanh activation =  0.9877395577395578\n",
            "\n",
            "Validation Score for identity activation =  0.9335777777777777\n",
            "Testing Score for identity activation =  0.9845823095823096\n",
            "\n"
          ]
        }
      ]
    },
    {
      "cell_type": "code",
      "source": [
        "iterations = []\n",
        "for i in range(len(relu_loss)):\n",
        "  iterations.append(i+1)\n",
        "plt.plot(iterations, relu_loss, label = 'relu')\n",
        "plt.plot(iterations, logistic_loss, label = 'logistic')\n",
        "plt.plot(iterations, tanh_loss, label = 'tanh')\n",
        "plt.plot(iterations, identity_loss, label = 'identity')\n",
        "plt.xlabel('Epochs')\n",
        "plt.ylabel('Training Loss')\n",
        "plt.title('Training Loss vs Epochs for different activation functions')\n",
        "plt.legend()\n",
        "plt.show()"
      ],
      "metadata": {
        "colab": {
          "base_uri": "https://localhost:8080/",
          "height": 295
        },
        "id": "iAkRZn0d1u4w",
        "outputId": "04e0e34c-74ce-4b65-dd6c-3d747b97f3ca"
      },
      "execution_count": 142,
      "outputs": [
        {
          "output_type": "display_data",
          "data": {
            "text/plain": [
              "<Figure size 432x288 with 1 Axes>"
            ],
            "image/png": "[encoded data removed]"
          },
          "metadata": {
            "needs_background": "light"
          }
        }
      ]
    },
    {
      "cell_type": "markdown",
      "source": [
        "**2. Learning Rate**"
      ],
      "metadata": {
        "id": "ZM6CZg56BB8V"
      }
    },
    {
      "cell_type": "code",
      "source": [
        "learning_rate = [0.1, 0.01, 0.001]\n",
        "l_1_loss = []\n",
        "l_2_loss = []\n",
        "l_3_loss = []"
      ],
      "metadata": {
        "id": "leskYvn-BJpT"
      },
      "execution_count": 146,
      "outputs": []
    },
    {
      "cell_type": "code",
      "source": [
        "for i in range(len(learning_rate)):\n",
        "  mlp = MLPClassifier(n_iter_no_change = 250, max_iter = 100, learning_rate_init=learning_rate[i])\n",
        "  mlp = mlp.fit(X_train, Y_train)\n",
        "  if learning_rate[i] == 0.1:\n",
        "    print('Validation Score for 0.1 learning rate = ', mlp.score(X_val, Y_val))\n",
        "    print('Testing Score for 0.1 learning rate = ', mlp.score(X_test, Y_test))\n",
        "    print()\n",
        "    l_1_loss = mlp.loss_curve_\n",
        "  if learning_rate[i] == 0.01:\n",
        "    print('Validation Score for 0.01 learning rate = ', mlp.score(X_val, Y_val))\n",
        "    print('Testing Score for 0.01 learning rate = ', mlp.score(X_test, Y_test))\n",
        "    print()\n",
        "    l_2_loss = mlp.loss_curve_\n",
        "  if learning_rate[i] == 0.001:\n",
        "    print('Validation Score for 0.001 learning rate = ', mlp.score(X_val, Y_val))\n",
        "    print('Testing Score for 0.001 learning rate = ', mlp.score(X_test, Y_test))\n",
        "    print()\n",
        "    l_3_loss = mlp.loss_curve_"
      ],
      "metadata": {
        "colab": {
          "base_uri": "https://localhost:8080/"
        },
        "id": "yeHBU_GTBxLs",
        "outputId": "00e82886-fd48-4b95-df3b-36f22ed98d02"
      },
      "execution_count": 149,
      "outputs": [
        {
          "output_type": "stream",
          "name": "stdout",
          "text": [
            "Validation Score for 0.1 learning rate =  0.9325555555555556\n",
            "Testing Score for 0.1 learning rate =  0.9832923832923833\n",
            "\n",
            "Validation Score for 0.01 learning rate =  0.9356\n",
            "Testing Score for 0.01 learning rate =  0.98995085995086\n",
            "\n",
            "Validation Score for 0.001 learning rate =  0.9362444444444444\n",
            "Testing Score for 0.001 learning rate =  0.9884889434889435\n",
            "\n"
          ]
        }
      ]
    },
    {
      "cell_type": "code",
      "source": [
        "iterations = []\n",
        "for i in range(len(l_1_loss)):\n",
        "  iterations.append(i+1)\n",
        "plt.plot(iterations, l_1_loss, label = 'lr = 0.1')\n",
        "plt.plot(iterations, l_2_loss, label = 'lr = 0.01')\n",
        "plt.plot(iterations, l_3_loss, label = 'lr = 0.001')\n",
        "plt.xlabel('Epochs')\n",
        "plt.ylabel('Training Loss')\n",
        "plt.title('Training Loss vs Epochs for different learning rate')\n",
        "plt.legend()\n",
        "plt.show()"
      ],
      "metadata": {
        "colab": {
          "base_uri": "https://localhost:8080/",
          "height": 295
        },
        "id": "McEiB-fZJwUO",
        "outputId": "13988920-79ef-463f-a86f-4eff5e7a8f53"
      },
      "execution_count": 151,
      "outputs": [
        {
          "output_type": "display_data",
          "data": {
            "text/plain": [
              "<Figure size 432x288 with 1 Axes>"
            ],
            "image/png": "[encoded data removed]"
          },
          "metadata": {
            "needs_background": "light"
          }
        }
      ]
    }
  ]
}