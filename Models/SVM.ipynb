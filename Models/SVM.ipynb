{
  "nbformat": 4,
  "nbformat_minor": 0,
  "metadata": {
    "colab": {
      "provenance": []
    },
    "kernelspec": {
      "name": "python3",
      "display_name": "Python 3"
    },
    "language_info": {
      "name": "python"
    }
  },
  "cells": [
    {
      "cell_type": "code",
      "execution_count": 1,
      "metadata": {
        "colab": {
          "base_uri": "https://localhost:8080/"
        },
        "id": "wmFGvmzjuute",
        "outputId": "1e39db1d-fc4b-4c5a-e122-7a800ab910c3"
      },
      "outputs": [
        {
          "output_type": "stream",
          "name": "stdout",
          "text": [
            "Drive already mounted at /content/drive; to attempt to forcibly remount, call drive.mount(\"/content/drive\", force_remount=True).\n"
          ]
        }
      ],
      "source": [
        "from google.colab import drive\n",
        "drive.mount('/content/drive')"
      ]
    },
    {
      "cell_type": "code",
      "source": [
        "import numpy as np\n",
        "import pandas as pd\n",
        "from sklearn.utils import shuffle\n",
        "from sklearn.preprocessing import StandardScaler\n",
        "from sklearn.model_selection import train_test_split\n",
        "from sklearn.impute import SimpleImputer\n",
        "import seaborn as sns\n",
        "import matplotlib.pyplot as plt\n",
        "from sklearn.metrics import *\n",
        "\n",
        "sc = StandardScaler()\n",
        "imp_mean = SimpleImputer(missing_values=np.nan, strategy='mean')\n",
        "url = \"/content/drive/MyDrive/cs-training.csv\"\n",
        "data = pd.read_csv(url)\n",
        "data = data.sample(frac = 1)\n",
        "data = data.drop(data.iloc[:, 0:1],axis = 1)\n",
        "trainingdata = imp_mean.fit_transform(data)\n",
        "data = pd.DataFrame(trainingdata,columns = [\"SeriousDlqin2yrs\",\"RevolvingUtilizationOfUnsecuredLines\",\"age\",\"NumberOfTime30-59DaysPastDueNotWorse\",\"DebtRatio\",\"MonthlyIncome\",\"NumberOfOpenCreditLinesAndLoans\",\n",
        "                                            \"NumberOfTimes90DaysLate\",\"NumberRealEstateLoansOrLines\",\"NumberOfTime60-89DaysPastDueNotWorse\",\"NumberOfDependents\"])"
      ],
      "metadata": {
        "id": "ePiU_qTEu_QK"
      },
      "execution_count": 2,
      "outputs": []
    },
    {
      "cell_type": "code",
      "source": [
        "X_data = trainingdata[:,1:]\n",
        "X_data = sc.fit_transform(X_data)\n",
        "Y_data_train = trainingdata[:,0]\n",
        "x_train, x_validate, y_train, y_validate = train_test_split(X_data, Y_data_train, test_size=0.30, random_state = 0)"
      ],
      "metadata": {
        "id": "JvuF5vySvFxA"
      },
      "execution_count": 3,
      "outputs": []
    },
    {
      "cell_type": "code",
      "source": [
        "urltest = \"/content/drive/MyDrive/cs-test.csv\"\n",
        "testingdata = pd.read_csv(urltest)\n",
        "testingdata = testingdata.drop(columns = {\"SeriousDlqin2yrs\"})\n",
        "testingdata = testingdata.drop(testingdata.iloc[:,0:1],axis=1)"
      ],
      "metadata": {
        "id": "lCOAc95tvMlB"
      },
      "execution_count": 4,
      "outputs": []
    },
    {
      "cell_type": "code",
      "source": [
        "url3 = \"/content/drive/MyDrive/sampleEntry.csv\"\n",
        "data = pd.read_csv(url3)\n",
        "data = data.drop(data.iloc[:, 0:1],axis = 1).values\n",
        "y_test = []\n",
        "for i in data:\n",
        "  if(i > 0.5):\n",
        "    y_test.append(1)\n",
        "  else:\n",
        "    y_test.append(0)\n",
        "\n",
        "testingdata[\"labels\"] = y_test\n",
        "testing_data = testingdata.dropna()\n",
        "X_test = testing_data.iloc[:,:testing_data.shape[1]-1]\n",
        "y_test = testing_data.iloc[:,-1]\n",
        "X_test = sc.transform(X_test)"
      ],
      "metadata": {
        "colab": {
          "base_uri": "https://localhost:8080/"
        },
        "id": "W6HZFKRdvQXP",
        "outputId": "10bfb266-d143-49c6-bf20-846f23b0eeda"
      },
      "execution_count": 12,
      "outputs": [
        {
          "output_type": "stream",
          "name": "stderr",
          "text": [
            "/usr/local/lib/python3.8/dist-packages/sklearn/base.py:443: UserWarning: X has feature names, but StandardScaler was fitted without feature names\n",
            "  warnings.warn(\n"
          ]
        }
      ]
    },
    {
      "cell_type": "code",
      "source": [
        "from sklearn.svm import SVC\n",
        "\n",
        "training_loss = []\n",
        "validation_loss = []\n",
        "testing_loss = []\n",
        "kernel_types = [\"linear\",\"sigmoid\",\"rbf\"]\n",
        "for i in kernel_types:\n",
        "  model = SVC(kernel = i) \n",
        "  model.fit(x_train,y_train)\n",
        "  training_loss.append(log_loss(y_train,model.predict(x_train)))\n",
        "  validation_loss.append(log_loss(y_validate,model.predict(x_validate)))\n",
        "  testing_loss.append(log_loss(y_test,model.predict(X_test)))\n",
        "\n",
        "plt.plot(kernel_types,training_loss,label = \"Training Loss\")\n",
        "plt.plot(kernel_types,validation_loss,label = \"Validation Loss\")\n",
        "plt.plot(kernel_types,testing_loss,label = \"Testing Loss\")\n",
        "plt.xlabel(\"SVM Kernel Type\")\n",
        "plt.ylabel(\"Loss\")\n",
        "plt.legend()\n",
        "plt.show()"
      ],
      "metadata": {
        "colab": {
          "base_uri": "https://localhost:8080/",
          "height": 279
        },
        "id": "6dN5Hh9QvR9F",
        "outputId": "8435250a-b441-4c1f-cebe-0056b6506a79"
      },
      "execution_count": 13,
      "outputs": [
        {
          "output_type": "display_data",
          "data": {
            "text/plain": [
              "<Figure size 432x288 with 1 Axes>"
            ],
            "image/png": "[encoded data removed]"
          },
          "metadata": {
            "needs_background": "light"
          }
        }
      ]
    },
    {
      "cell_type": "code",
      "source": [
        "from sklearn.decomposition import PCA\n",
        "\n",
        "training_loss = []\n",
        "validation_loss = []\n",
        "testing_loss = []\n",
        "iteration = []\n",
        "for i in range(1,11):\n",
        "  iteration.append(i)\n",
        "  pca = PCA(n_components=i)\n",
        "  x_train_pca = pca.fit_transform(x_train)\n",
        "  x_validate_pca = pca.fit_transform(x_validate)\n",
        "  x_test_pca = pca.fit_transform(X_test)\n",
        "  model = SVC(kernel = \"rbf\")\n",
        "  model.fit(x_train_pca,y_train)\n",
        "  training_loss.append(log_loss(y_train,model.predict(x_train_pca)))\n",
        "  validation_loss.append(log_loss(y_validate,model.predict(x_validate_pca)))\n",
        "  testing_loss.append(log_loss(y_test,model.predict(x_test_pca)))\n",
        "\n",
        "\n",
        "plt.plot(iteration,training_loss,label = \"Training Loss\")\n",
        "plt.plot(iteration,validation_loss,label = \"Validation Loss\")\n",
        "plt.plot(iteration,testing_loss,label = \"Testing Loss\")\n",
        "plt.xlabel(\"Number of Components\")\n",
        "plt.ylabel(\"Loss\")\n",
        "plt.legend()\n",
        "plt.show()\n",
        "\n",
        "pca = PCA(n_components = 4)\n",
        "x_train_pca = pca.fit_transform(x_train)\n",
        "x_validate_pca = pca.fit_transform(x_validate)\n",
        "x_test_pca = pca.fit_transform(X_test)\n",
        "model = SVC(kernel = \"rbf\")\n",
        "model.fit(x_train_pca,y_train)\n",
        "print(\"Accuracy score on Training set\" + str(accuracy_score(y_train,model.predict(x_train_pca))))\n",
        "print(\"Accuracy score on Validation set\" + str(accuracy_score(y_validate,model.predict(x_validate_pca))))\n",
        "print(\"Accuracy score on Testing set\" + str(accuracy_score(y_test,model.predict(x_test_pca))))"
      ],
      "metadata": {
        "colab": {
          "base_uri": "https://localhost:8080/",
          "height": 331
        },
        "id": "h9TlSl74zShb",
        "outputId": "d77a60e1-f358-4fc8-8d99-35028119c909"
      },
      "execution_count": 14,
      "outputs": [
        {
          "output_type": "display_data",
          "data": {
            "text/plain": [
              "<Figure size 432x288 with 1 Axes>"
            ],
            "image/png": "[encoded data removed]"
          },
          "metadata": {
            "needs_background": "light"
          }
        },
        {
          "output_type": "stream",
          "name": "stdout",
          "text": [
            "Accuracy score on Training set0.934\n",
            "Accuracy score on Validation set0.9349777777777778\n",
            "Accuracy score on Testing set0.9668550368550368\n"
          ]
        }
      ]
    },
    {
      "cell_type": "code",
      "source": [
        "model = SVC(kernel = \"rbf\") \n",
        "model.fit(x_train,y_train)\n",
        "pred_train = model.predict(x_train)\n",
        "accuracy_score_train = accuracy_score(y_train,pred_train)\n",
        "print(\"Accuracy Score For Training : \" + str(accuracy_score_train))\n",
        "print(classification_report(y_train,pred_train))"
      ],
      "metadata": {
        "colab": {
          "base_uri": "https://localhost:8080/"
        },
        "id": "HO8_V-Cbkfar",
        "outputId": "ec2a9175-5f6d-4120-d984-b0e1c6bd3b73"
      },
      "execution_count": 15,
      "outputs": [
        {
          "output_type": "stream",
          "name": "stdout",
          "text": [
            "Accuracy Score For Training : 0.9347238095238095\n",
            "              precision    recall  f1-score   support\n",
            "\n",
            "         0.0       0.94      1.00      0.97     97929\n",
            "         1.0       0.73      0.05      0.09      7071\n",
            "\n",
            "    accuracy                           0.93    105000\n",
            "   macro avg       0.83      0.52      0.53    105000\n",
            "weighted avg       0.92      0.93      0.91    105000\n",
            "\n"
          ]
        }
      ]
    },
    {
      "cell_type": "code",
      "source": [
        "pred_validate = model.predict(x_validate)\n",
        "accuracy_score_validate = accuracy_score(y_validate,pred_validate)\n",
        "print(\"Accuracy Score For Validate : \" + str(accuracy_score_validate))\n",
        "print(classification_report(y_validate,pred_validate))"
      ],
      "metadata": {
        "colab": {
          "base_uri": "https://localhost:8080/"
        },
        "id": "MUmMF-19lnhn",
        "outputId": "58bdc18a-6416-4488-f039-efb6b9e891d6"
      },
      "execution_count": 16,
      "outputs": [
        {
          "output_type": "stream",
          "name": "stdout",
          "text": [
            "Accuracy Score For Validate : 0.9358444444444445\n",
            "              precision    recall  f1-score   support\n",
            "\n",
            "         0.0       0.94      1.00      0.97     42045\n",
            "         1.0       0.70      0.04      0.08      2955\n",
            "\n",
            "    accuracy                           0.94     45000\n",
            "   macro avg       0.82      0.52      0.52     45000\n",
            "weighted avg       0.92      0.94      0.91     45000\n",
            "\n"
          ]
        }
      ]
    },
    {
      "cell_type": "code",
      "source": [
        "pred_test = model.predict(X_test)\n",
        "accuracy_score_test = accuracy_score(y_test,pred_test)\n",
        "print(\"Accuracy Score For Testing : \" + str(accuracy_score_test))\n",
        "print(classification_report(y_test,pred_test))"
      ],
      "metadata": {
        "colab": {
          "base_uri": "https://localhost:8080/"
        },
        "id": "lsbB4fFal15h",
        "outputId": "fa9fafdd-0a97-46b7-91ab-8b6aac422698"
      },
      "execution_count": 17,
      "outputs": [
        {
          "output_type": "stream",
          "name": "stdout",
          "text": [
            "Accuracy Score For Testing : 0.9867936117936118\n",
            "              precision    recall  f1-score   support\n",
            "\n",
            "           0       0.99      1.00      0.99     80040\n",
            "           1       0.93      0.23      0.37      1360\n",
            "\n",
            "    accuracy                           0.99     81400\n",
            "   macro avg       0.96      0.61      0.68     81400\n",
            "weighted avg       0.99      0.99      0.98     81400\n",
            "\n"
          ]
        }
      ]
    }
  ]
}