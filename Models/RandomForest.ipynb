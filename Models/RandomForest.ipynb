{
  "cells": [
    {
      "cell_type": "code",
      "execution_count": 1,
      "metadata": {
        "colab": {
          "base_uri": "https://localhost:8080/"
        },
        "id": "8yQiSKPDBQSJ",
        "outputId": "083e3598-96ac-4b24-dd68-ed1e23cbb31b"
      },
      "outputs": [],
      "source": [
        "# from google.colab import drive\n",
        "# drive.mount('/content/drive')"
      ]
    },
    {
      "cell_type": "code",
      "execution_count": 2,
      "metadata": {
        "id": "n2GqypG35ghw"
      },
      "outputs": [],
      "source": [
        "import numpy as np\n",
        "import pandas as pd\n",
        "from sklearn.utils import shuffle\n",
        "from sklearn.preprocessing import StandardScaler\n",
        "from sklearn.model_selection import train_test_split\n",
        "from sklearn.impute import SimpleImputer\n",
        "from sklearn.ensemble import RandomForestClassifier\n",
        "import seaborn as sns\n",
        "from sklearn.metrics import *\n",
        "import matplotlib.pyplot as plt\n",
        "from sklearn.decomposition import PCA\n",
        "\n",
        "\n",
        "urltrain = \"cs-training.csv\"\n",
        "train = pd.read_csv(urltrain)\n",
        "train = train.drop(train.iloc[:,0:1],axis=1)\n",
        "Y_train = train['SeriousDlqin2yrs']\n",
        "X_train = train.drop(['SeriousDlqin2yrs'], axis = 1)"
      ]
    },
    {
      "cell_type": "code",
      "execution_count": 3,
      "metadata": {
        "id": "hsujkJs6JqLR"
      },
      "outputs": [],
      "source": [
        "urltest = \"cs-test.csv\"\n",
        "test = pd.read_csv(urltest)\n",
        "test = test.drop(columns = {\"SeriousDlqin2yrs\"}, axis = 1)\n",
        "X_test = test.drop(test.iloc[:,0:1],axis=1)"
      ]
    },
    {
      "cell_type": "code",
      "execution_count": 4,
      "metadata": {
        "id": "w8Cp0G6CJqfi"
      },
      "outputs": [
        {
          "name": "stderr",
          "output_type": "stream",
          "text": [
            "/Users/ashwinsheoran/opt/anaconda3/lib/python3.9/site-packages/sklearn/base.py:443: UserWarning: X has feature names, but StandardScaler was fitted without feature names\n",
            "  warnings.warn(\n"
          ]
        }
      ],
      "source": [
        "url_test_labels = \"sampleEntry.csv\"\n",
        "label_proba = pd.read_csv(url_test_labels)\n",
        "label_proba = label_proba.drop(label_proba.iloc[:, 0:1],axis = 1).values\n",
        "Y_test = []\n",
        "for i in label_proba:\n",
        "  if(i > 0.5):\n",
        "    Y_test.append(1)\n",
        "  else:\n",
        "    Y_test.append(0)\n",
        "\n",
        "X_test['labels'] = Y_test\n",
        "\n",
        "imp_mean = SimpleImputer(missing_values=np.nan, strategy='mean')\n",
        "imp_mean = imp_mean.fit(X_train)\n",
        "X_train = imp_mean.transform(X_train)\n",
        "\n",
        "X_test = X_test.dropna()\n",
        "\n",
        "Y_test = X_test['labels']\n",
        "X_test = X_test.drop(['labels'], axis = 1)\n",
        "\n",
        "\n",
        "sc = StandardScaler()\n",
        "sc = sc.fit(X_train)\n",
        "X_train = sc.transform(X_train)\n",
        "X_test = sc.transform(X_test)\n",
        "\n",
        "X_train, X_val, Y_train, Y_val = train_test_split(X_train, Y_train, test_size=0.30, random_state = 0)"
      ]
    },
    {
      "cell_type": "code",
      "execution_count": 5,
      "metadata": {
        "colab": {
          "base_uri": "https://localhost:8080/",
          "height": 1000
        },
        "id": "gMbY5S66GNAD",
        "outputId": "f483526f-8015-4414-d45f-972f0a6a1880"
      },
      "outputs": [
        {
          "name": "stdout",
          "output_type": "stream",
          "text": [
            "Accuracy Score For Train (max depth = 4) : 0.9362380952380952\n",
            "Precision Score For Train (max depth = 4) : 0.9362380952380952\n",
            "Recall Score For Train (max depth = 4) : 0.9362380952380952\n",
            "Accuracy Score For Validate (max depth = 4) : 0.9351333333333334\n",
            "Precision Score For Validate (max depth = 4) : 0.9351333333333334\n",
            "Recall Score For Validate (max depth = 4) : 0.9351333333333334\n",
            "Accuracy Score For Test (max depth = 4) : 0.99009828009828\n",
            "Precision Score For Test (max depth = 4) : 0.99009828009828\n",
            "Recall Score For Test (max depth = 4) : 0.99009828009828\n",
            "\n",
            "Accuracy Score For Train (max depth = 6) : 0.9381904761904762\n",
            "Precision Score For Train (max depth = 6) : 0.9381904761904762\n",
            "Recall Score For Train (max depth = 6) : 0.9381904761904762\n",
            "Accuracy Score For Validate (max depth = 6) : 0.9364888888888889\n",
            "Precision Score For Validate (max depth = 6) : 0.9364888888888889\n",
            "Recall Score For Validate (max depth = 6) : 0.9364888888888889\n",
            "Accuracy Score For Test (max depth = 6) : 0.9936486486486487\n",
            "Precision Score For Test (max depth = 6) : 0.9936486486486487\n",
            "Recall Score For Test (max depth = 6) : 0.9936486486486487\n",
            "\n",
            "Accuracy Score For Train (max depth = 8) : 0.9421238095238095\n",
            "Precision Score For Train (max depth = 8) : 0.9421238095238095\n",
            "Recall Score For Train (max depth = 8) : 0.9421238095238095\n",
            "Accuracy Score For Validate (max depth = 8) : 0.9367333333333333\n",
            "Precision Score For Validate (max depth = 8) : 0.9367333333333333\n",
            "Recall Score For Validate (max depth = 8) : 0.9367333333333333\n",
            "Accuracy Score For Test (max depth = 8) : 0.9951597051597052\n",
            "Precision Score For Test (max depth = 8) : 0.9951597051597052\n",
            "Recall Score For Test (max depth = 8) : 0.9951597051597052\n",
            "\n",
            "Accuracy Score For Train (max depth = 10) : 0.9476380952380953\n",
            "Precision Score For Train (max depth = 10) : 0.9476380952380953\n",
            "Recall Score For Train (max depth = 10) : 0.9476380952380953\n",
            "Accuracy Score For Validate (max depth = 10) : 0.9368888888888889\n",
            "Precision Score For Validate (max depth = 10) : 0.9368888888888889\n",
            "Recall Score For Validate (max depth = 10) : 0.9368888888888889\n",
            "Accuracy Score For Test (max depth = 10) : 0.9942137592137592\n",
            "Precision Score For Test (max depth = 10) : 0.9942137592137592\n",
            "Recall Score For Test (max depth = 10) : 0.9942137592137592\n",
            "\n",
            "Accuracy Score For Train (max depth = 12) : 0.9541238095238095\n",
            "Precision Score For Train (max depth = 12) : 0.9541238095238095\n",
            "Recall Score For Train (max depth = 12) : 0.9541238095238095\n",
            "Accuracy Score For Validate (max depth = 12) : 0.9361777777777778\n",
            "Precision Score For Validate (max depth = 12) : 0.9361777777777778\n",
            "Recall Score For Validate (max depth = 12) : 0.9361777777777778\n",
            "Accuracy Score For Test (max depth = 12) : 0.9924324324324324\n",
            "Precision Score For Test (max depth = 12) : 0.9924324324324324\n",
            "Recall Score For Test (max depth = 12) : 0.9924324324324324\n",
            "\n",
            "Accuracy Score For Train (max depth = 15) : 0.9639238095238095\n",
            "Precision Score For Train (max depth = 15) : 0.9639238095238095\n",
            "Recall Score For Train (max depth = 15) : 0.9639238095238095\n",
            "Accuracy Score For Validate (max depth = 15) : 0.9360888888888889\n",
            "Precision Score For Validate (max depth = 15) : 0.9360888888888889\n",
            "Recall Score For Validate (max depth = 15) : 0.9360888888888889\n",
            "Accuracy Score For Test (max depth = 15) : 0.9902579852579853\n",
            "Precision Score For Test (max depth = 15) : 0.9902579852579853\n",
            "Recall Score For Test (max depth = 15) : 0.9902579852579853\n",
            "\n",
            "Accuracy Score For Train (max depth = 20) : 0.9790095238095238\n",
            "Precision Score For Train (max depth = 20) : 0.9790095238095238\n",
            "Recall Score For Train (max depth = 20) : 0.9790095238095238\n",
            "Accuracy Score For Validate (max depth = 20) : 0.9356\n",
            "Precision Score For Validate (max depth = 20) : 0.9356\n",
            "Recall Score For Validate (max depth = 20) : 0.9356\n",
            "Accuracy Score For Test (max depth = 20) : 0.9878009828009828\n",
            "Precision Score For Test (max depth = 20) : 0.9878009828009828\n",
            "Recall Score For Test (max depth = 20) : 0.9878009828009828\n",
            "\n"
          ]
        },
        {
          "data": {
            "text/plain": [
              "<matplotlib.legend.Legend at 0x7ff64a218ca0>"
            ]
          },
          "execution_count": 5,
          "metadata": {},
          "output_type": "execute_result"
        },
        {
          "data": {
            "image/png": "[encoded data removed]",
            "text/plain": [
              "<Figure size 432x288 with 1 Axes>"
            ]
          },
          "metadata": {
            "needs_background": "light"
          },
          "output_type": "display_data"
        }
      ],
      "source": [
        "arr = [4,6,8,10,12,15,20]\n",
        "train_plot = []\n",
        "test_plot = []\n",
        "validate_plot = []\n",
        "for i in arr:\n",
        "  model = RandomForestClassifier(max_depth=i, random_state=0)\n",
        "  model.fit(X_train,Y_train)\n",
        "  pred_train = model.predict(X_train)\n",
        "  pred_test = model.predict(X_test)\n",
        "  pred_validate = model.predict(X_val)\n",
        "  accuracy_score_train = accuracy_score(Y_train,pred_train)\n",
        "  recall_score_train = recall_score(Y_train,pred_train,average = \"micro\")\n",
        "  precision_score_train = precision_score(Y_train,pred_train,average = \"micro\")\n",
        "  accuracy_score_validate = accuracy_score(Y_val,pred_validate)\n",
        "  recall_score_validate = recall_score(Y_val,pred_validate,average = \"micro\")\n",
        "  precision_score_validate = precision_score(Y_val,pred_validate,average = \"micro\")\n",
        "  accuracy_score_test = accuracy_score(Y_test,pred_test)\n",
        "  recall_score_test = recall_score(Y_test,pred_test,average = \"micro\")\n",
        "  precision_score_test = precision_score(Y_test,pred_test,average = \"micro\")\n",
        "  validate_plot.append(accuracy_score_validate)\n",
        "  test_plot.append(accuracy_score_test)\n",
        "  train_plot.append(accuracy_score_train)\n",
        "  print(\"Accuracy Score For Train (max depth = \" + str(i) + \") : \" + str(accuracy_score_train))\n",
        "  print(\"Precision Score For Train (max depth = \" + str(i) + \") : \" + str(precision_score_train))\n",
        "  print(\"Recall Score For Train (max depth = \" + str(i) + \") : \" + str(recall_score_train))\n",
        "  print(\"Accuracy Score For Validate (max depth = \" + str(i) + \") : \" + str(accuracy_score_validate))\n",
        "  print(\"Precision Score For Validate (max depth = \" + str(i) + \") : \" + str(precision_score_validate))\n",
        "  print(\"Recall Score For Validate (max depth = \" + str(i) + \") : \" + str(recall_score_validate))\n",
        "  print(\"Accuracy Score For Test (max depth = \" + str(i) + \") : \" + str(accuracy_score_test))\n",
        "  print(\"Precision Score For Test (max depth = \" + str(i) + \") : \" + str(precision_score_test))\n",
        "  print(\"Recall Score For Test (max depth = \" + str(i) + \") : \" + str(recall_score_test))\n",
        "  print()\n",
        "plt.xlabel(\"Max_Depth\")\n",
        "plt.ylabel(\"Accuracy Score\")\n",
        "plt.plot(arr,validate_plot,'r',label = \"Validate Data\")\n",
        "plt.plot(arr,test_plot,'b',label = \"Testing Data\")\n",
        "plt.plot(arr,train_plot,'y',label = \"Training Data\")\n",
        "plt.legend()"
      ]
    },
    {
      "cell_type": "code",
      "execution_count": 6,
      "metadata": {
        "colab": {
          "base_uri": "https://localhost:8080/",
          "height": 439
        },
        "id": "zXxc84lJr4KK",
        "outputId": "794de484-b8a6-489b-849f-cbe190d28c7a"
      },
      "outputs": [
        {
          "name": "stdout",
          "output_type": "stream",
          "text": [
            "Accuracy Score For Train (max depth = 8) : 0.9421238095238095\n",
            "              precision    recall  f1-score   support\n",
            "\n",
            "           0       0.95      1.00      0.97     98009\n",
            "           1       0.76      0.19      0.30      6991\n",
            "\n",
            "    accuracy                           0.94    105000\n",
            "   macro avg       0.85      0.59      0.64    105000\n",
            "weighted avg       0.93      0.94      0.93    105000\n",
            "\n"
          ]
        },
        {
          "data": {
            "text/plain": [
              "<AxesSubplot:>"
            ]
          },
          "execution_count": 6,
          "metadata": {},
          "output_type": "execute_result"
        },
        {
          "data": {
            "image/png": "[encoded data removed]",
            "text/plain": [
              "<Figure size 432x288 with 2 Axes>"
            ]
          },
          "metadata": {
            "needs_background": "light"
          },
          "output_type": "display_data"
        }
      ],
      "source": [
        "model = RandomForestClassifier(max_depth=8, random_state=0)\n",
        "model.fit(X_train,Y_train)\n",
        "pred_train = model.predict(X_train)\n",
        "accuracy_score_train = accuracy_score(Y_train,pred_train)\n",
        "print(\"Accuracy Score For Train (max depth = \" + str(8) + \") : \" + str(accuracy_score_train))\n",
        "print(classification_report(Y_train,pred_train))\n",
        "cm = confusion_matrix(Y_train,pred_train)\n",
        "sns.heatmap(cm, annot=True, fmt=\".3f\", linewidths=.5, square = True, cmap = 'Blues_r')"
      ]
    },
    {
      "cell_type": "code",
      "execution_count": 7,
      "metadata": {
        "colab": {
          "base_uri": "https://localhost:8080/",
          "height": 439
        },
        "id": "lQP9zCWpval3",
        "outputId": "afe26d16-93b1-49df-81c8-cc5895c1e5f3"
      },
      "outputs": [
        {
          "name": "stdout",
          "output_type": "stream",
          "text": [
            "Accuracy Score For Validate (max depth = 8) : 0.9367333333333333\n",
            "              precision    recall  f1-score   support\n",
            "\n",
            "           0       0.94      0.99      0.97     41965\n",
            "           1       0.64      0.15      0.24      3035\n",
            "\n",
            "    accuracy                           0.94     45000\n",
            "   macro avg       0.79      0.57      0.60     45000\n",
            "weighted avg       0.92      0.94      0.92     45000\n",
            "\n"
          ]
        },
        {
          "data": {
            "text/plain": [
              "<AxesSubplot:>"
            ]
          },
          "execution_count": 7,
          "metadata": {},
          "output_type": "execute_result"
        },
        {
          "data": {
            "image/png": "[encoded data removed]",
            "text/plain": [
              "<Figure size 432x288 with 2 Axes>"
            ]
          },
          "metadata": {
            "needs_background": "light"
          },
          "output_type": "display_data"
        }
      ],
      "source": [
        "pred_validate = model.predict(X_val)\n",
        "accuracy_score_validate = accuracy_score(Y_val,pred_validate)\n",
        "print(\"Accuracy Score For Validate (max depth = \" + str(8) + \") : \" + str(accuracy_score_validate))\n",
        "print(classification_report(Y_val,pred_validate))\n",
        "cm = confusion_matrix(Y_val,pred_validate)\n",
        "sns.heatmap(cm, annot=True, fmt=\".3f\", linewidths=.5, square = True, cmap = 'Blues_r')"
      ]
    },
    {
      "cell_type": "code",
      "execution_count": 8,
      "metadata": {
        "colab": {
          "base_uri": "https://localhost:8080/",
          "height": 439
        },
        "id": "9c3uudeUvfMp",
        "outputId": "3c9bc0d1-bd71-4cbb-a8e7-fc67df89210e"
      },
      "outputs": [
        {
          "name": "stdout",
          "output_type": "stream",
          "text": [
            "Accuracy Score For Testing (max depth = 8) : 0.9951597051597052\n",
            "              precision    recall  f1-score   support\n",
            "\n",
            "           0       1.00      1.00      1.00     80040\n",
            "           1       0.88      0.82      0.85      1360\n",
            "\n",
            "    accuracy                           1.00     81400\n",
            "   macro avg       0.94      0.91      0.92     81400\n",
            "weighted avg       1.00      1.00      1.00     81400\n",
            "\n"
          ]
        },
        {
          "data": {
            "image/png": "[encoded data removed]",
            "text/plain": [
              "<Figure size 432x288 with 2 Axes>"
            ]
          },
          "metadata": {
            "needs_background": "light"
          },
          "output_type": "display_data"
        }
      ],
      "source": [
        "pred_test = model.predict(X_test)\n",
        "accuracy_score_test = accuracy_score(Y_test,pred_test)\n",
        "print(\"Accuracy Score For Testing (max depth = \" + str(8) + \") : \" + str(accuracy_score_test))\n",
        "print(classification_report(Y_test,pred_test))\n",
        "cm = confusion_matrix(Y_test,pred_test)\n",
        "sns.heatmap(cm, annot=True, fmt=\".3f\", linewidths=.5, square = True, cmap = 'Blues_r');"
      ]
    },
    {
      "cell_type": "code",
      "execution_count": 9,
      "metadata": {
        "colab": {
          "base_uri": "https://localhost:8080/"
        },
        "id": "Bxdh0YiPi6YR",
        "outputId": "0cea9008-6d45-4334-e50e-ae721d43f8ff"
      },
      "outputs": [
        {
          "data": {
            "text/plain": [
              "array([0.19763084, 0.04022051, 0.14075023, 0.03789127, 0.03024856,\n",
              "       0.02896987, 0.34008061, 0.01307536, 0.16096475, 0.01016799])"
            ]
          },
          "execution_count": 9,
          "metadata": {},
          "output_type": "execute_result"
        }
      ],
      "source": [
        "model.feature_importances_"
      ]
    },
    {
      "cell_type": "code",
      "execution_count": 10,
      "metadata": {
        "colab": {
          "base_uri": "https://localhost:8080/",
          "height": 282
        },
        "id": "2ZKYFJBkjHf8",
        "outputId": "0ad379f0-325b-4038-9c0a-1e4b03bc824b"
      },
      "outputs": [
        {
          "data": {
            "text/plain": [
              "<BarContainer object of 10 artists>"
            ]
          },
          "execution_count": 10,
          "metadata": {},
          "output_type": "execute_result"
        },
        {
          "data": {
            "image/png": "[encoded data removed]",
            "text/plain": [
              "<Figure size 432x288 with 1 Axes>"
            ]
          },
          "metadata": {
            "needs_background": "light"
          },
          "output_type": "display_data"
        }
      ],
      "source": [
        "arr = [\"RevolvingUtilizationOfUnsecuredLines\",\"age\",\"NumberOfTime30-59DaysPastDueNotWorse\",\"DebtRatio\",\"MonthlyIncome\",\"NumberOfOpenCreditLinesAndLoans\",\"NumberOfTimes90DaysLate\",\"NumberRealEstateLoansOrLines\",\"NumberOfTime60-89DaysPastDueNotWorse\",\"NumberOfDependents\"]\n",
        "plt.barh(arr,model.feature_importances_)"
      ]
    },
    {
      "cell_type": "code",
      "execution_count": 12,
      "metadata": {},
      "outputs": [
        {
          "name": "stdout",
          "output_type": "stream",
          "text": [
            "Accuracy Score For Test (max depth = 1) : 0.9251474201474201\n",
            "Precision Score For Test (max depth = 1) : 0.9251474201474201\n",
            "Recall Score For Test (max depth = 1) : 0.9251474201474201\n",
            "\n",
            "Accuracy Score For Test (max depth = 2) : 0.9275184275184275\n",
            "Precision Score For Test (max depth = 2) : 0.9275184275184275\n",
            "Recall Score For Test (max depth = 2) : 0.9275184275184275\n",
            "\n",
            "Accuracy Score For Test (max depth = 3) : 0.9264619164619164\n",
            "Precision Score For Test (max depth = 3) : 0.9264619164619164\n",
            "Recall Score For Test (max depth = 3) : 0.9264619164619164\n",
            "\n",
            "Accuracy Score For Test (max depth = 4) : 0.9196805896805896\n",
            "Precision Score For Test (max depth = 4) : 0.9196805896805896\n",
            "Recall Score For Test (max depth = 4) : 0.9196805896805896\n",
            "\n",
            "Accuracy Score For Test (max depth = 5) : 0.9175429975429975\n",
            "Precision Score For Test (max depth = 5) : 0.9175429975429975\n",
            "Recall Score For Test (max depth = 5) : 0.9175429975429975\n",
            "\n",
            "Accuracy Score For Test (max depth = 6) : 0.9327886977886978\n",
            "Precision Score For Test (max depth = 6) : 0.9327886977886978\n",
            "Recall Score For Test (max depth = 6) : 0.9327886977886978\n",
            "\n",
            "Accuracy Score For Test (max depth = 7) : 0.953992628992629\n",
            "Precision Score For Test (max depth = 7) : 0.953992628992629\n",
            "Recall Score For Test (max depth = 7) : 0.953992628992629\n",
            "\n",
            "Accuracy Score For Test (max depth = 8) : 0.9634275184275184\n",
            "Precision Score For Test (max depth = 8) : 0.9634275184275184\n",
            "Recall Score For Test (max depth = 8) : 0.9634275184275184\n",
            "\n",
            "Accuracy Score For Test (max depth = 9) : 0.9308968058968059\n",
            "Precision Score For Test (max depth = 9) : 0.9308968058968059\n",
            "Recall Score For Test (max depth = 9) : 0.9308968058968059\n",
            "\n",
            "Accuracy Score For Test (max depth = 10) : 0.9475798525798526\n",
            "Precision Score For Test (max depth = 10) : 0.9475798525798526\n",
            "Recall Score For Test (max depth = 10) : 0.9475798525798526\n",
            "\n"
          ]
        },
        {
          "data": {
            "text/plain": [
              "<matplotlib.legend.Legend at 0x7ff64a936d00>"
            ]
          },
          "execution_count": 12,
          "metadata": {},
          "output_type": "execute_result"
        },
        {
          "data": {
            "image/png": "[encoded data removed]",
            "text/plain": [
              "<Figure size 432x288 with 1 Axes>"
            ]
          },
          "metadata": {
            "needs_background": "light"
          },
          "output_type": "display_data"
        }
      ],
      "source": [
        "arr = [1,2,3,4,5,6,7,8,9,10]\n",
        "test_plot = []\n",
        "validate_plot = []\n",
        "train_plot = []\n",
        "for i in arr:\n",
        "    clf = PCA(n_components = i)\n",
        "    X_train2 = clf.fit_transform(X_train)\n",
        "    X_valid2 = clf.fit_transform(X_val)\n",
        "    X_test2 = clf.fit_transform(X_test)\n",
        "    clf = RandomForestClassifier(max_depth=8, random_state=0)\n",
        "    clf.fit(X_train2, Y_train)\n",
        "    pred_test = clf.predict(X_test2)\n",
        "    pred_val = clf.predict(X_valid2)\n",
        "    pred_train = clf.predict(X_train2)\n",
        "    score = clf.score(X_test2, Y_test)\n",
        "    accuracy_score_test = accuracy_score(Y_test,pred_test)\n",
        "    recall_score_test = recall_score(Y_test,pred_test,average = \"micro\")\n",
        "    precision_score_test = precision_score(Y_test,pred_test,average = \"micro\")\n",
        "    test_plot.append(accuracy_score_test)\n",
        "\n",
        "    recall_score_validate = recall_score(Y_val, pred_val, average = \"micro\")\n",
        "    precision_score_validate = precision_score(Y_val, pred_val, average = \"micro\")\n",
        "    accuracy_score_validate = accuracy_score(Y_val, pred_val)\n",
        "    validate_plot.append(accuracy_score_validate)\n",
        "\n",
        "    recall_score_train = recall_score(Y_train, pred_train, average = \"micro\")\n",
        "    precision_score_train = precision_score(Y_train, pred_train, average = \"micro\")\n",
        "    accuracy_score_train = accuracy_score(Y_train, pred_train)\n",
        "    train_plot.append(accuracy_score_train)\n",
        "    print(\"Accuracy Score For Test (max depth = \" + str(i) + \") : \" + str(accuracy_score_test))\n",
        "    print(\"Precision Score For Test (max depth = \" + str(i) + \") : \" + str(precision_score_test))\n",
        "    print(\"Recall Score For Test (max depth = \" + str(i) + \") : \" + str(recall_score_test))\n",
        "    print()\n",
        "plt.xlabel(\"n_components\")\n",
        "plt.ylabel(\"AccuracyScore\")\n",
        "plt.plot(arr,test_plot,'b',label = \"Testing Data\")\n",
        "plt.plot(arr,validate_plot,'r',label = \"Validate Data\")\n",
        "plt.plot(arr,train_plot,'g',label = \"Train Data\")\n",
        "plt.legend()\n"
      ]
    }
  ],
  "metadata": {
    "colab": {
      "provenance": []
    },
    "kernelspec": {
      "display_name": "Python 3.9.12 ('base')",
      "language": "python",
      "name": "python3"
    },
    "language_info": {
      "codemirror_mode": {
        "name": "ipython",
        "version": 3
      },
      "file_extension": ".py",
      "mimetype": "text/x-python",
      "name": "python",
      "nbconvert_exporter": "python",
      "pygments_lexer": "ipython3",
      "version": "3.9.12"
    },
    "vscode": {
      "interpreter": {
        "hash": "77df3a5ebd1cef01dee7bc6ed82b7377cfd852bb783257559a7f51931db89a34"
      }
    }
  },
  "nbformat": 4,
  "nbformat_minor": 0
}
