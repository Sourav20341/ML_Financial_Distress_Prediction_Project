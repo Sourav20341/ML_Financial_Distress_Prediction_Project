{
  "nbformat": 4,
  "nbformat_minor": 0,
  "metadata": {
    "colab": {
      "provenance": []
    },
    "kernelspec": {
      "name": "python3",
      "display_name": "Python 3"
    },
    "language_info": {
      "name": "python"
    }
  },
  "cells": [
    {
      "cell_type": "code",
      "execution_count": 1,
      "metadata": {
        "colab": {
          "base_uri": "https://localhost:8080/"
        },
        "id": "E2JYwnDiic-F",
        "outputId": "6f9e7a4f-c5cc-4e92-a23f-2eed49b194b0"
      },
      "outputs": [
        {
          "output_type": "stream",
          "name": "stdout",
          "text": [
            "Mounted at /content/drive\n"
          ]
        }
      ],
      "source": [
        "from google.colab import drive\n",
        "drive.mount('/content/drive')"
      ]
    },
    {
      "cell_type": "code",
      "source": [
        "import numpy as np\n",
        "import pandas as pd\n",
        "from sklearn.utils import shuffle\n",
        "from sklearn.preprocessing import StandardScaler\n",
        "from sklearn.model_selection import train_test_split\n",
        "from sklearn.metrics import *\n",
        "from sklearn.impute import SimpleImputer\n",
        "from sklearn.ensemble import RandomForestClassifier\n",
        "from sklearn.linear_model import LogisticRegression\n",
        "from sklearn.ensemble import AdaBoostClassifier\n",
        "from sklearn.neural_network import MLPClassifier\n",
        "import seaborn as sns\n",
        "import matplotlib.pyplot as plt\n",
        "import warnings\n",
        "warnings.filterwarnings('ignore')"
      ],
      "metadata": {
        "id": "ycgXzTKniqPp"
      },
      "execution_count": 46,
      "outputs": []
    },
    {
      "cell_type": "code",
      "source": [
        "urltrain = \"/content/drive/MyDrive/cs-training.csv\"\n",
        "train = pd.read_csv(urltrain)\n",
        "train = train.drop(train.iloc[:,0:1],axis=1)\n",
        "Y_train = train['SeriousDlqin2yrs']\n",
        "X_train = train.drop(['SeriousDlqin2yrs'], axis = 1)"
      ],
      "metadata": {
        "id": "7Xw9LxhQis0c"
      },
      "execution_count": 47,
      "outputs": []
    },
    {
      "cell_type": "code",
      "source": [
        "urltest = \"/content/drive/MyDrive/cs-test.csv\"\n",
        "test = pd.read_csv(urltest)\n",
        "test = test.drop(columns = {\"SeriousDlqin2yrs\"}, axis = 1)\n",
        "X_test = test.drop(test.iloc[:,0:1],axis=1)"
      ],
      "metadata": {
        "id": "xrU4CPvRiwIn"
      },
      "execution_count": 48,
      "outputs": []
    },
    {
      "cell_type": "code",
      "source": [
        "url_test_labels = \"/content/drive/MyDrive/sampleEntry.csv\"\n",
        "label_proba = pd.read_csv(url_test_labels)\n",
        "label_proba = label_proba.drop(label_proba.iloc[:, 0:1],axis = 1).values\n",
        "Y_test = []\n",
        "for i in label_proba:\n",
        "  if(i > 0.5):\n",
        "    Y_test.append(1)\n",
        "  else:\n",
        "    Y_test.append(0)"
      ],
      "metadata": {
        "id": "QxcvBW1siy0q"
      },
      "execution_count": 49,
      "outputs": []
    },
    {
      "cell_type": "code",
      "source": [
        "X_test['labels'] = Y_test"
      ],
      "metadata": {
        "id": "FYsbwS3Di2dX"
      },
      "execution_count": 50,
      "outputs": []
    },
    {
      "cell_type": "code",
      "source": [
        "imp_mean = SimpleImputer(missing_values=np.nan, strategy='mean')\n",
        "imp_mean = imp_mean.fit(X_train)\n",
        "X_train = imp_mean.transform(X_train)"
      ],
      "metadata": {
        "id": "jI3l6oMki4LU"
      },
      "execution_count": 51,
      "outputs": []
    },
    {
      "cell_type": "code",
      "source": [
        "X_test = X_test.dropna()"
      ],
      "metadata": {
        "id": "j3Kb3lmli6lA"
      },
      "execution_count": 52,
      "outputs": []
    },
    {
      "cell_type": "code",
      "source": [
        "Y_test = X_test['labels']\n",
        "X_test = X_test.drop(['labels'], axis = 1)"
      ],
      "metadata": {
        "id": "ccnHIC16i8Om"
      },
      "execution_count": 53,
      "outputs": []
    },
    {
      "cell_type": "code",
      "source": [
        "sc = StandardScaler()\n",
        "sc = sc.fit(X_train)\n",
        "X_train = sc.transform(X_train)\n",
        "X_test = sc.transform(X_test)"
      ],
      "metadata": {
        "id": "xCaNmSp-i-Y-"
      },
      "execution_count": 54,
      "outputs": []
    },
    {
      "cell_type": "code",
      "source": [
        "X_train, X_val, Y_train, Y_val = train_test_split(X_train, Y_train, test_size=0.30, random_state = 0)"
      ],
      "metadata": {
        "id": "3qRYCgILjAzP"
      },
      "execution_count": 55,
      "outputs": []
    },
    {
      "cell_type": "code",
      "source": [
        "model1 = RandomForestClassifier(max_depth=8, random_state=0)\n",
        "model1 = model1.fit(X_train,Y_train)\n",
        "predictions1_val = model1.predict(X_val)\n",
        "predictions1_test = model1.predict(X_test)"
      ],
      "metadata": {
        "id": "V-Rk_0FUjMos"
      },
      "execution_count": 56,
      "outputs": []
    },
    {
      "cell_type": "code",
      "source": [
        "model2 = LogisticRegression(max_iter=3000)\n",
        "model2 = model2.fit(X_train,Y_train)\n",
        "predictions2_val = model2.predict(X_val)\n",
        "predictions2_test = model2.predict(X_test)"
      ],
      "metadata": {
        "id": "igtDkPJtkV-n"
      },
      "execution_count": 57,
      "outputs": []
    },
    {
      "cell_type": "code",
      "source": [
        "model3 = AdaBoostClassifier(n_estimators=100, random_state=0)\n",
        "model3 = model3.fit(X_train, Y_train)\n",
        "predictions3_val = model3.predict(X_val)\n",
        "predictions3_test = model3.predict(X_test)"
      ],
      "metadata": {
        "id": "933vVjaHkkXe"
      },
      "execution_count": 58,
      "outputs": []
    },
    {
      "cell_type": "code",
      "source": [
        "model4 = MLPClassifier(activation = 'logistic')\n",
        "model4 = model4.fit(X_train, Y_train)\n",
        "predictions4_val = model4.predict(X_val)\n",
        "predictions4_test = model4.predict(X_test)"
      ],
      "metadata": {
        "id": "3ygd4aFllp2z"
      },
      "execution_count": 59,
      "outputs": []
    },
    {
      "cell_type": "code",
      "source": [
        "final_predictions_val = []\n",
        "final_predictions_test = []\n",
        "for i in range(len(predictions4_val)):\n",
        "  zero = 0\n",
        "  one = 0\n",
        "  if predictions1_val[i] == 1:\n",
        "    one += 1\n",
        "  else:\n",
        "    zero += 1\n",
        "  if predictions2_val[i] == 1:\n",
        "    one += 1\n",
        "  else:\n",
        "    zero += 1\n",
        "  if predictions3_val[i] == 1:\n",
        "    one += 1\n",
        "  else:\n",
        "    zero += 1\n",
        "  if predictions4_val[i] == 1:\n",
        "    one += 1\n",
        "  else:\n",
        "    zero += 1\n",
        "  \n",
        "  if one > zero:\n",
        "    final_predictions_val.append(1)\n",
        "  else:\n",
        "    final_predictions_val.append(0)\n",
        "\n",
        "for i in range(len(predictions4_test)):\n",
        "  zero = 0\n",
        "  one = 0\n",
        "  if predictions1_test[i] == 1:\n",
        "    one += 1\n",
        "  else:\n",
        "    zero += 1\n",
        "  if predictions2_test[i] == 1:\n",
        "    one += 1\n",
        "  else:\n",
        "    zero += 1\n",
        "  if predictions3_test[i] == 1:\n",
        "    one += 1\n",
        "  else:\n",
        "    zero += 1\n",
        "  if predictions4_test[i] == 1:\n",
        "    one += 1\n",
        "  else:\n",
        "    zero += 1\n",
        "  \n",
        "  if one > zero:\n",
        "    final_predictions_test.append(1)\n",
        "  else:\n",
        "    final_predictions_test.append(0)"
      ],
      "metadata": {
        "id": "AYeuwCOKl6oq"
      },
      "execution_count": 60,
      "outputs": []
    },
    {
      "cell_type": "code",
      "source": [
        "print(model1.score(X_test, final_predictions_test))"
      ],
      "metadata": {
        "colab": {
          "base_uri": "https://localhost:8080/"
        },
        "id": "P42jbIp1mz2X",
        "outputId": "d49f98fb-385e-449d-c586-6ee3727c9f96"
      },
      "execution_count": 34,
      "outputs": [
        {
          "output_type": "stream",
          "name": "stdout",
          "text": [
            "0.9971621621621621\n"
          ]
        }
      ]
    }
  ]
}