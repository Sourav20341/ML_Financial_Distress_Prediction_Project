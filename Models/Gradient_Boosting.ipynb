{
  "nbformat": 4,
  "nbformat_minor": 0,
  "metadata": {
    "colab": {
      "provenance": []
    },
    "kernelspec": {
      "name": "python3",
      "display_name": "Python 3"
    },
    "language_info": {
      "name": "python"
    }
  },
  "cells": [
    {
      "cell_type": "code",
      "execution_count": null,
      "metadata": {
        "colab": {
          "base_uri": "https://localhost:8080/"
        },
        "id": "LCsfI72L6PxN",
        "outputId": "f94ec288-73e8-4c4a-b19f-400bb44f9ed5"
      },
      "outputs": [
        {
          "output_type": "stream",
          "name": "stdout",
          "text": [
            "Drive already mounted at /content/drive; to attempt to forcibly remount, call drive.mount(\"/content/drive\", force_remount=True).\n"
          ]
        }
      ],
      "source": [
        "from google.colab import drive\n",
        "drive.mount('/content/drive')"
      ]
    },
    {
      "cell_type": "code",
      "source": [
        "import numpy as np\n",
        "import pandas as pd\n",
        "from sklearn.utils import shuffle\n",
        "from sklearn.preprocessing import StandardScaler\n",
        "from sklearn.model_selection import train_test_split\n",
        "from sklearn.impute import SimpleImputer\n",
        "from sklearn.naive_bayes import *\n",
        "import seaborn as sns\n",
        "from sklearn.metrics import *\n",
        "import matplotlib.pyplot as plt"
      ],
      "metadata": {
        "id": "27kZq_re9dlb"
      },
      "execution_count": null,
      "outputs": []
    },
    {
      "cell_type": "code",
      "source": [
        "urltrain = \"/content/drive/MyDrive/cs-training.csv\"\n",
        "train = pd.read_csv(urltrain)\n",
        "train = train.drop(train.iloc[:,0:1],axis=1)\n",
        "Y_train = train['SeriousDlqin2yrs']\n",
        "X_train = train.drop(['SeriousDlqin2yrs'], axis = 1)"
      ],
      "metadata": {
        "id": "lJOB2VagCNgJ"
      },
      "execution_count": null,
      "outputs": []
    },
    {
      "cell_type": "code",
      "source": [
        "urltest = \"/content/drive/MyDrive/cs-test.csv\"\n",
        "test = pd.read_csv(urltest)\n",
        "test = test.drop(columns = {\"SeriousDlqin2yrs\"}, axis = 1)\n",
        "X_test = test.drop(test.iloc[:,0:1],axis=1)"
      ],
      "metadata": {
        "id": "JXy0inlTCPE3"
      },
      "execution_count": null,
      "outputs": []
    },
    {
      "cell_type": "code",
      "source": [
        "url_test_labels = \"/content/drive/MyDrive/sampleEntry.csv\"\n",
        "label_proba = pd.read_csv(url_test_labels)\n",
        "label_proba = label_proba.drop(label_proba.iloc[:, 0:1],axis = 1).values\n",
        "Y_test = []\n",
        "for i in label_proba:\n",
        "  if(i > 0.5):\n",
        "    Y_test.append(1)\n",
        "  else:\n",
        "    Y_test.append(0)"
      ],
      "metadata": {
        "id": "I8aLv-h5DrTV"
      },
      "execution_count": null,
      "outputs": []
    },
    {
      "cell_type": "code",
      "source": [
        "X_test['labels'] = Y_test"
      ],
      "metadata": {
        "id": "FhCDh2g6DtCJ"
      },
      "execution_count": null,
      "outputs": []
    },
    {
      "cell_type": "code",
      "source": [
        "imp_mean = SimpleImputer(missing_values=np.nan, strategy='mean')\n",
        "imp_mean = imp_mean.fit(X_train)\n",
        "X_train = imp_mean.transform(X_train)"
      ],
      "metadata": {
        "id": "e5G0xClGDuuw"
      },
      "execution_count": null,
      "outputs": []
    },
    {
      "cell_type": "code",
      "source": [
        "X_test = X_test.dropna()"
      ],
      "metadata": {
        "id": "sTV7iQDeDwZG"
      },
      "execution_count": null,
      "outputs": []
    },
    {
      "cell_type": "code",
      "source": [
        "Y_test = X_test['labels']\n",
        "X_test = X_test.drop(['labels'], axis = 1)"
      ],
      "metadata": {
        "id": "EcqbNe8JDx54"
      },
      "execution_count": null,
      "outputs": []
    },
    {
      "cell_type": "code",
      "source": [
        "sc = StandardScaler()\n",
        "sc = sc.fit(X_train)\n",
        "X_train = sc.transform(X_train)\n",
        "X_test = sc.transform(X_test)"
      ],
      "metadata": {
        "id": "-80kpUDaDzmj",
        "colab": {
          "base_uri": "https://localhost:8080/"
        },
        "outputId": "bccda44e-6bd0-405d-b9c1-aa9f279214df"
      },
      "execution_count": null,
      "outputs": [
        {
          "output_type": "stream",
          "name": "stderr",
          "text": [
            "/usr/local/lib/python3.8/dist-packages/sklearn/base.py:443: UserWarning: X has feature names, but StandardScaler was fitted without feature names\n",
            "  warnings.warn(\n"
          ]
        }
      ]
    },
    {
      "cell_type": "code",
      "source": [
        "X_train, X_validate, Y_train, Y_validate = train_test_split(X_train, Y_train, test_size=0.30, random_state = 0)"
      ],
      "metadata": {
        "id": "i8hXrwduD2WX"
      },
      "execution_count": null,
      "outputs": []
    },
    {
      "cell_type": "code",
      "source": [
        "from sklearn.ensemble import GradientBoostingClassifier\n",
        "from sklearn.metrics import *\n",
        "arr = [25,50,75,100,125,150,175,200,225,250]\n",
        "test_plot = []\n",
        "validate_plot = []\n",
        "train_plot = []\n",
        "for i in arr:\n",
        "  model = GradientBoostingClassifier(n_estimators = i)\n",
        "  model = model.fit(X_train,Y_train)\n",
        "  pred_test = model.predict(X_test)\n",
        "  val_test = model.predict(X_validate)\n",
        "  train_test = model.predict(X_train)\n",
        "  accuracy_score_test = accuracy_score(Y_test,pred_test)\n",
        "  recall_score_test = recall_score(Y_test,pred_test,average = \"micro\")\n",
        "  precision_score_test = precision_score(Y_test,pred_test,average = \"micro\")\n",
        "  test_plot.append(accuracy_score_test)\n",
        "\n",
        "  recall_score_validate = recall_score(Y_validate, val_test, average = \"micro\")\n",
        "  precision_score_validate = precision_score(Y_validate, val_test, average = \"micro\")\n",
        "  accuracy_score_validate = accuracy_score(Y_validate, val_test)\n",
        "  validate_plot.append(accuracy_score_validate)\n",
        "\n",
        "  recall_score_train = recall_score(Y_train, train_test, average = \"micro\")\n",
        "  precision_score_train = precision_score(Y_train, train_test, average = \"micro\")\n",
        "  accuracy_score_train = accuracy_score(Y_train, train_test)\n",
        "  train_plot.append(accuracy_score_train)\n",
        "  print(\"Accuracy Score For Test (max depth = \" + str(i) + \") : \" + str(accuracy_score_test))\n",
        "  print(\"Precision Score For Test (max depth = \" + str(i) + \") : \" + str(precision_score_test))\n",
        "  print(\"Recall Score For Test (max depth = \" + str(i) + \") : \" + str(recall_score_test))\n",
        "  print()\n",
        "plt.xlabel(\"n_estimators\")\n",
        "plt.ylabel(\"AccuracyScore\")\n",
        "plt.plot(arr,test_plot,'b',label = \"Testing Data\")\n",
        "plt.plot(arr,validate_plot,'r',label = \"Validate Data\")\n",
        "plt.plot(arr,train_plot,'g',label = \"Train Data\")\n",
        "plt.legend()"
      ],
      "metadata": {
        "colab": {
          "base_uri": "https://localhost:8080/",
          "height": 992
        },
        "id": "M2g7Vtpf-4AT",
        "outputId": "29aae416-b84d-4dd3-9852-0bca3998eb6e"
      },
      "execution_count": null,
      "outputs": [
        {
          "output_type": "stream",
          "name": "stdout",
          "text": [
            "Accuracy Score For Test (max depth = 25) : 0.9931572481572482\n",
            "Precision Score For Test (max depth = 25) : 0.9931572481572482\n",
            "Recall Score For Test (max depth = 25) : 0.9931572481572482\n",
            "\n",
            "Accuracy Score For Test (max depth = 50) : 0.9928501228501229\n",
            "Precision Score For Test (max depth = 50) : 0.9928501228501229\n",
            "Recall Score For Test (max depth = 50) : 0.9928501228501229\n",
            "\n",
            "Accuracy Score For Test (max depth = 75) : 0.9913390663390663\n",
            "Precision Score For Test (max depth = 75) : 0.9913390663390663\n",
            "Recall Score For Test (max depth = 75) : 0.9913390663390663\n",
            "\n",
            "Accuracy Score For Test (max depth = 100) : 0.9907002457002457\n",
            "Precision Score For Test (max depth = 100) : 0.9907002457002457\n",
            "Recall Score For Test (max depth = 100) : 0.9907002457002457\n",
            "\n",
            "Accuracy Score For Test (max depth = 125) : 0.9904668304668305\n",
            "Precision Score For Test (max depth = 125) : 0.9904668304668305\n",
            "Recall Score For Test (max depth = 125) : 0.9904668304668305\n",
            "\n",
            "Accuracy Score For Test (max depth = 150) : 0.9901965601965602\n",
            "Precision Score For Test (max depth = 150) : 0.9901965601965602\n",
            "Recall Score For Test (max depth = 150) : 0.9901965601965602\n",
            "\n",
            "Accuracy Score For Test (max depth = 175) : 0.99\n",
            "Precision Score For Test (max depth = 175) : 0.99\n",
            "Recall Score For Test (max depth = 175) : 0.99\n",
            "\n",
            "Accuracy Score For Test (max depth = 200) : 0.9896805896805897\n",
            "Precision Score For Test (max depth = 200) : 0.9896805896805897\n",
            "Recall Score For Test (max depth = 200) : 0.9896805896805897\n",
            "\n",
            "Accuracy Score For Test (max depth = 225) : 0.9892997542997543\n",
            "Precision Score For Test (max depth = 225) : 0.9892997542997543\n",
            "Recall Score For Test (max depth = 225) : 0.9892997542997543\n",
            "\n",
            "Accuracy Score For Test (max depth = 250) : 0.988968058968059\n",
            "Precision Score For Test (max depth = 250) : 0.988968058968059\n",
            "Recall Score For Test (max depth = 250) : 0.988968058968059\n",
            "\n"
          ]
        },
        {
          "output_type": "execute_result",
          "data": {
            "text/plain": [
              "<matplotlib.legend.Legend at 0x7fd431e66fa0>"
            ]
          },
          "metadata": {},
          "execution_count": 26
        },
        {
          "output_type": "display_data",
          "data": {
            "text/plain": [
              "<Figure size 432x288 with 1 Axes>"
            ],
            "image/png": "[encoded data removed]"
          },
          "metadata": {
            "needs_background": "light"
          }
        }
      ]
    },
    {
      "cell_type": "code",
      "source": [
        "import seaborn as sns\n",
        "model = GradientBoostingClassifier(n_estimators = 25)\n",
        "model = model.fit(X_train,Y_train)\n",
        "pred_train = model.predict(X_train)\n",
        "accuracy_score_train = accuracy_score(Y_train,pred_train)\n",
        "print(\"Accuracy Score For Training (n_estimators = \" + str(25) + \") : \" + str(accuracy_score_train))\n",
        "print(classification_report(Y_train,pred_train))\n",
        "cm = confusion_matrix(Y_train,pred_train)\n",
        "sns.heatmap(cm, annot=True, fmt=\".3f\", linewidths=.5, square = True, cmap = 'Blues_r');"
      ],
      "metadata": {
        "colab": {
          "base_uri": "https://localhost:8080/",
          "height": 439
        },
        "id": "7SChPutYJsXX",
        "outputId": "c3766932-7177-423d-859e-0d7cf380619c"
      },
      "execution_count": null,
      "outputs": [
        {
          "output_type": "stream",
          "name": "stdout",
          "text": [
            "Accuracy Score For Training (n_estimators = 25) : 0.9381496598639456\n",
            "              precision    recall  f1-score   support\n",
            "\n",
            "           0       0.94      0.99      0.97     68646\n",
            "           1       0.64      0.14      0.23      4854\n",
            "\n",
            "    accuracy                           0.94     73500\n",
            "   macro avg       0.79      0.57      0.60     73500\n",
            "weighted avg       0.92      0.94      0.92     73500\n",
            "\n"
          ]
        },
        {
          "output_type": "display_data",
          "data": {
            "text/plain": [
              "<Figure size 432x288 with 2 Axes>"
            ],
            "image/png": "[encoded data removed]"
          },
          "metadata": {
            "needs_background": "light"
          }
        }
      ]
    },
    {
      "cell_type": "code",
      "source": [
        "pred_validate = model.predict(X_validate)\n",
        "accuracy_score_validate = accuracy_score(Y_validate,pred_validate)\n",
        "print(\"Accuracy Score For Validate (n_estimators = \" + str(25) + \") : \" + str(accuracy_score_validate))\n",
        "print(classification_report(Y_validate,pred_validate))\n",
        "cm = confusion_matrix(Y_validate,pred_validate)\n",
        "sns.heatmap(cm, annot=True, fmt=\".3f\", linewidths=.5, square = True, cmap = 'Blues_r');"
      ],
      "metadata": {
        "colab": {
          "base_uri": "https://localhost:8080/",
          "height": 439
        },
        "id": "SJASGry-K3tJ",
        "outputId": "371f9f3e-6c66-4452-9d95-570bf85a54ae"
      },
      "execution_count": null,
      "outputs": [
        {
          "output_type": "stream",
          "name": "stdout",
          "text": [
            "Accuracy Score For Validate (n_estimators = 25) : 0.9359047619047619\n",
            "              precision    recall  f1-score   support\n",
            "\n",
            "           0       0.94      0.99      0.97     29363\n",
            "           1       0.63      0.14      0.22      2137\n",
            "\n",
            "    accuracy                           0.94     31500\n",
            "   macro avg       0.78      0.56      0.59     31500\n",
            "weighted avg       0.92      0.94      0.92     31500\n",
            "\n"
          ]
        },
        {
          "output_type": "display_data",
          "data": {
            "text/plain": [
              "<Figure size 432x288 with 2 Axes>"
            ],
            "image/png": "[encoded data removed]"
          },
          "metadata": {
            "needs_background": "light"
          }
        }
      ]
    },
    {
      "cell_type": "code",
      "source": [
        "pred_test = model.predict(X_test)\n",
        "accuracy_score_test = accuracy_score(Y_test,pred_test)\n",
        "print(\"Accuracy Score For testing (n_estimators = \" + str(25) + \") : \" + str(accuracy_score_test))\n",
        "print(classification_report(Y_test,pred_test))\n",
        "cm = confusion_matrix(Y_test,pred_test)\n",
        "sns.heatmap(cm, annot=True, fmt=\".3f\", linewidths=.5, square = True, cmap = 'Blues_r');"
      ],
      "metadata": {
        "colab": {
          "base_uri": "https://localhost:8080/",
          "height": 439
        },
        "id": "TPSlkHSpLD3o",
        "outputId": "08007abb-92f4-4c4d-a6e4-396e26ed2aae"
      },
      "execution_count": null,
      "outputs": [
        {
          "output_type": "stream",
          "name": "stdout",
          "text": [
            "Accuracy Score For testing (n_estimators = 25) : 0.9931572481572482\n",
            "              precision    recall  f1-score   support\n",
            "\n",
            "           0       1.00      1.00      1.00     80040\n",
            "           1       0.85      0.72      0.78      1360\n",
            "\n",
            "    accuracy                           0.99     81400\n",
            "   macro avg       0.92      0.86      0.89     81400\n",
            "weighted avg       0.99      0.99      0.99     81400\n",
            "\n"
          ]
        },
        {
          "output_type": "display_data",
          "data": {
            "text/plain": [
              "<Figure size 432x288 with 2 Axes>"
            ],
            "image/png": "[encoded data removed]"
          },
          "metadata": {
            "needs_background": "light"
          }
        }
      ]
    },
    {
      "cell_type": "code",
      "source": [
        "from sklearn.ensemble import GradientBoostingClassifier\n",
        "from sklearn.decomposition import PCA\n",
        "from sklearn.metrics import *\n",
        "\n",
        "arr = [1,2,3,4,5,6,7,8,9,10]\n",
        "test_plot = []\n",
        "validate_plot = []\n",
        "train_plot = []\n",
        "for i in arr:\n",
        "  clf = PCA(n_components = i)\n",
        "  x_tra = clf.fit_transform(X_train)\n",
        "  x_val = clf.fit_transform(X_validate)\n",
        "  x_tes = clf.fit_transform(X_test)\n",
        "  model = GradientBoostingClassifier(n_estimators = 25)\n",
        "  model = model.fit(x_tra,Y_train)\n",
        "  pred_test = model.predict(x_tes)\n",
        "  val_test = model.predict(x_val)\n",
        "  train_test = model.predict(x_tra)\n",
        "  accuracy_score_test = accuracy_score(Y_test,pred_test)\n",
        "  recall_score_test = recall_score(Y_test,pred_test,average = \"micro\")\n",
        "  precision_score_test = precision_score(Y_test,pred_test,average = \"micro\")\n",
        "  test_plot.append(accuracy_score_test)\n",
        "\n",
        "  recall_score_validate = recall_score(Y_validate, val_test, average = \"micro\")\n",
        "  precision_score_validate = precision_score(Y_validate, val_test, average = \"micro\")\n",
        "  accuracy_score_validate = accuracy_score(Y_validate, val_test)\n",
        "  validate_plot.append(accuracy_score_validate)\n",
        "\n",
        "  recall_score_train = recall_score(Y_train, train_test, average = \"micro\")\n",
        "  precision_score_train = precision_score(Y_train, train_test, average = \"micro\")\n",
        "  accuracy_score_train = accuracy_score(Y_train, train_test)\n",
        "  train_plot.append(accuracy_score_train)\n",
        "  print(\"Accuracy Score For Test (max depth = \" + str(i) + \") : \" + str(accuracy_score_test))\n",
        "  print(\"Precision Score For Test (max depth = \" + str(i) + \") : \" + str(precision_score_test))\n",
        "  print(\"Recall Score For Test (max depth = \" + str(i) + \") : \" + str(recall_score_test))\n",
        "  print()\n",
        "plt.xlabel(\"n_components\")\n",
        "plt.ylabel(\"AccuracyScore\")\n",
        "plt.plot(arr,test_plot,'b',label = \"Testing Data\")\n",
        "plt.plot(arr,validate_plot,'r',label = \"Validate Data\")\n",
        "plt.plot(arr,train_plot,'g',label = \"Train Data\")\n",
        "plt.legend()"
      ],
      "metadata": {
        "colab": {
          "base_uri": "https://localhost:8080/",
          "height": 992
        },
        "id": "DVnLfDqWGd9V",
        "outputId": "a031adec-e09a-4905-a453-96b66e863d27"
      },
      "execution_count": null,
      "outputs": [
        {
          "output_type": "stream",
          "name": "stdout",
          "text": [
            "Accuracy Score For Test (max depth = 1) : 0.9318673218673219\n",
            "Precision Score For Test (max depth = 1) : 0.9318673218673219\n",
            "Recall Score For Test (max depth = 1) : 0.9318673218673219\n",
            "\n",
            "Accuracy Score For Test (max depth = 2) : 0.931977886977887\n",
            "Precision Score For Test (max depth = 2) : 0.931977886977887\n",
            "Recall Score For Test (max depth = 2) : 0.931977886977887\n",
            "\n",
            "Accuracy Score For Test (max depth = 3) : 0.9336609336609336\n",
            "Precision Score For Test (max depth = 3) : 0.9336609336609336\n",
            "Recall Score For Test (max depth = 3) : 0.9336609336609336\n",
            "\n",
            "Accuracy Score For Test (max depth = 4) : 0.9315233415233415\n",
            "Precision Score For Test (max depth = 4) : 0.9315233415233415\n",
            "Recall Score For Test (max depth = 4) : 0.9315233415233415\n",
            "\n",
            "Accuracy Score For Test (max depth = 5) : 0.9287592137592138\n",
            "Precision Score For Test (max depth = 5) : 0.9287592137592138\n",
            "Recall Score For Test (max depth = 5) : 0.9287592137592138\n",
            "\n",
            "Accuracy Score For Test (max depth = 6) : 0.9404422604422604\n",
            "Precision Score For Test (max depth = 6) : 0.9404422604422604\n",
            "Recall Score For Test (max depth = 6) : 0.9404422604422604\n",
            "\n",
            "Accuracy Score For Test (max depth = 7) : 0.9399877149877149\n",
            "Precision Score For Test (max depth = 7) : 0.9399877149877149\n",
            "Recall Score For Test (max depth = 7) : 0.9399877149877149\n",
            "\n",
            "Accuracy Score For Test (max depth = 8) : 0.9372113022113022\n",
            "Precision Score For Test (max depth = 8) : 0.9372113022113022\n",
            "Recall Score For Test (max depth = 8) : 0.9372113022113022\n",
            "\n",
            "Accuracy Score For Test (max depth = 9) : 0.9228624078624078\n",
            "Precision Score For Test (max depth = 9) : 0.9228624078624078\n",
            "Recall Score For Test (max depth = 9) : 0.9228624078624078\n",
            "\n",
            "Accuracy Score For Test (max depth = 10) : 0.9436240786240786\n",
            "Precision Score For Test (max depth = 10) : 0.9436240786240786\n",
            "Recall Score For Test (max depth = 10) : 0.9436240786240786\n",
            "\n"
          ]
        },
        {
          "output_type": "execute_result",
          "data": {
            "text/plain": [
              "<matplotlib.legend.Legend at 0x7fd4375b3d90>"
            ]
          },
          "metadata": {},
          "execution_count": 27
        },
        {
          "output_type": "display_data",
          "data": {
            "text/plain": [
              "<Figure size 432x288 with 1 Axes>"
            ],
            "image/png": "[encoded data removed]"
          },
          "metadata": {
            "needs_background": "light"
          }
        }
      ]
    }
  ]
}